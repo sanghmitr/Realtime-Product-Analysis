{
  "nbformat": 4,
  "nbformat_minor": 0,
  "metadata": {
    "colab": {
      "name": "Realtime_Product_Analysis.ipynb",
      "provenance": [],
      "collapsed_sections": [],
      "toc_visible": true,
      "mount_file_id": "16_D_czF399AMi8YZbGyOLMrWOHUxqMxV",
      "authorship_tag": "ABX9TyOq1uPwmRHMCiuIigtlPM1v",
      "include_colab_link": true
    },
    "kernelspec": {
      "name": "python3",
      "display_name": "Python 3"
    }
  },
  "cells": [
    {
      "cell_type": "markdown",
      "metadata": {
        "id": "view-in-github",
        "colab_type": "text"
      },
      "source": [
        "<a href=\"https://colab.research.google.com/github/sanghmitr/Realtime-Product-Analysis/blob/master/Realtime_Product_Analysis.ipynb\" target=\"_parent\"><img src=\"https://colab.research.google.com/assets/colab-badge.svg\" alt=\"Open In Colab\"/></a>"
      ]
    },
    {
      "cell_type": "code",
      "metadata": {
        "id": "yOmHv5hSXsDI",
        "colab": {
          "base_uri": "https://localhost:8080/",
          "height": 35
        },
        "outputId": "1b2ff0fd-3e00-4932-dfa5-81a4fef7c80f"
      },
      "source": [
        "pip install backports.functools-lru-cache==1.5"
      ],
      "execution_count": null,
      "outputs": [
        {
          "output_type": "stream",
          "text": [
            "Requirement already satisfied: backports.functools-lru-cache==1.5 in /usr/local/lib/python3.6/dist-packages (1.5)\n"
          ],
          "name": "stdout"
        }
      ]
    },
    {
      "cell_type": "code",
      "metadata": {
        "id": "hVOeaZYUX5uS",
        "colab": {
          "base_uri": "https://localhost:8080/",
          "height": 73
        },
        "outputId": "9b69fef5-a906-4411-ecfe-08a21d1dcdb6"
      },
      "source": [
        "pip install beautifulsoup4==4.7.1"
      ],
      "execution_count": null,
      "outputs": [
        {
          "output_type": "stream",
          "text": [
            "Requirement already satisfied: beautifulsoup4==4.7.1 in /usr/local/lib/python3.6/dist-packages (4.7.1)\n",
            "Requirement already satisfied: soupsieve>=1.2 in /usr/local/lib/python3.6/dist-packages (from beautifulsoup4==4.7.1) (1.9.1)\n"
          ],
          "name": "stdout"
        }
      ]
    },
    {
      "cell_type": "code",
      "metadata": {
        "id": "ogrJWznDYHN9",
        "colab": {
          "base_uri": "https://localhost:8080/",
          "height": 91
        },
        "outputId": "d0d045e3-3f28-43f5-88d0-57f04a4fda83"
      },
      "source": [
        "pip install bs4==0.0.1"
      ],
      "execution_count": null,
      "outputs": [
        {
          "output_type": "stream",
          "text": [
            "Requirement already satisfied: bs4==0.0.1 in /usr/local/lib/python3.6/dist-packages (0.0.1)\n",
            "Requirement already satisfied: beautifulsoup4 in /usr/local/lib/python3.6/dist-packages (from bs4==0.0.1) (4.7.1)\n",
            "Requirement already satisfied: soupsieve>=1.2 in /usr/local/lib/python3.6/dist-packages (from beautifulsoup4->bs4==0.0.1) (1.9.1)\n"
          ],
          "name": "stdout"
        }
      ]
    },
    {
      "cell_type": "code",
      "metadata": {
        "id": "64VIzan8YL77",
        "colab": {
          "base_uri": "https://localhost:8080/",
          "height": 35
        },
        "outputId": "42d1b5d6-c15e-458e-e07a-f0f081019dc5"
      },
      "source": [
        "pip install chardet==3.0.4"
      ],
      "execution_count": null,
      "outputs": [
        {
          "output_type": "stream",
          "text": [
            "Requirement already satisfied: chardet==3.0.4 in /usr/local/lib/python3.6/dist-packages (3.0.4)\n"
          ],
          "name": "stdout"
        }
      ]
    },
    {
      "cell_type": "code",
      "metadata": {
        "id": "snIZp5ZxYP_w",
        "colab": {
          "base_uri": "https://localhost:8080/",
          "height": 35
        },
        "outputId": "942b7def-44df-47da-d90c-a92dc015c1a7"
      },
      "source": [
        "pip install EasyProcess==0.2.10"
      ],
      "execution_count": null,
      "outputs": [
        {
          "output_type": "stream",
          "text": [
            "Requirement already satisfied: EasyProcess==0.2.10 in /usr/local/lib/python3.6/dist-packages (0.2.10)\n"
          ],
          "name": "stdout"
        }
      ]
    },
    {
      "cell_type": "code",
      "metadata": {
        "id": "u2hZRAu2Zjuv",
        "colab": {
          "base_uri": "https://localhost:8080/",
          "height": 35
        },
        "outputId": "837efdb2-2600-414a-99d8-1d952cb3db3c"
      },
      "source": [
        "pip install et-xmlfile==1.0.1"
      ],
      "execution_count": null,
      "outputs": [
        {
          "output_type": "stream",
          "text": [
            "Requirement already satisfied: et-xmlfile==1.0.1 in /usr/local/lib/python3.6/dist-packages (1.0.1)\n"
          ],
          "name": "stdout"
        }
      ]
    },
    {
      "cell_type": "code",
      "metadata": {
        "id": "qQ8yb_s_ZnNW",
        "colab": {
          "base_uri": "https://localhost:8080/",
          "height": 35
        },
        "outputId": "5b17aac3-9622-4d3f-e261-8d64b5b3c993"
      },
      "source": [
        "pip install futures"
      ],
      "execution_count": null,
      "outputs": [
        {
          "output_type": "stream",
          "text": [
            "Requirement already satisfied: futures in /usr/local/lib/python3.6/dist-packages (3.1.1)\n"
          ],
          "name": "stdout"
        }
      ]
    },
    {
      "cell_type": "code",
      "metadata": {
        "id": "_m-6bvvRZryO",
        "colab": {
          "base_uri": "https://localhost:8080/",
          "height": 35
        },
        "outputId": "270c670c-a7f6-415d-d6d9-854cece125f2"
      },
      "source": [
        "pip install idna==2.8"
      ],
      "execution_count": null,
      "outputs": [
        {
          "output_type": "stream",
          "text": [
            "Requirement already satisfied: idna==2.8 in /usr/local/lib/python3.6/dist-packages (2.8)\n"
          ],
          "name": "stdout"
        }
      ]
    },
    {
      "cell_type": "code",
      "metadata": {
        "id": "xInkpzyuZ_Zj",
        "colab": {
          "base_uri": "https://localhost:8080/",
          "height": 35
        },
        "outputId": "9e3eec14-0c91-468c-9eee-f8a28315d2b5"
      },
      "source": [
        "pip install jdcal==1.4.1"
      ],
      "execution_count": null,
      "outputs": [
        {
          "output_type": "stream",
          "text": [
            "Requirement already satisfied: jdcal==1.4.1 in /usr/local/lib/python3.6/dist-packages (1.4.1)\n"
          ],
          "name": "stdout"
        }
      ]
    },
    {
      "cell_type": "code",
      "metadata": {
        "id": "myr-kC0haG5H",
        "colab": {
          "base_uri": "https://localhost:8080/",
          "height": 35
        },
        "outputId": "36d406a1-b340-4f24-d83f-10e6cd8f66b0"
      },
      "source": [
        "pip install numpy"
      ],
      "execution_count": null,
      "outputs": [
        {
          "output_type": "stream",
          "text": [
            "Requirement already satisfied: numpy in /usr/local/lib/python3.6/dist-packages (1.16.6)\n"
          ],
          "name": "stdout"
        }
      ]
    },
    {
      "cell_type": "code",
      "metadata": {
        "id": "TRxHjdabaKGh",
        "colab": {
          "base_uri": "https://localhost:8080/",
          "height": 71
        },
        "outputId": "ac5ccfe9-a579-4a5f-c066-521504396f61"
      },
      "source": [
        "pip install openpyxl==2.6.4"
      ],
      "execution_count": null,
      "outputs": [
        {
          "output_type": "stream",
          "text": [
            "Requirement already satisfied: openpyxl==2.6.4 in /usr/local/lib/python3.6/dist-packages (2.6.4)\n",
            "Requirement already satisfied: et-xmlfile in /usr/local/lib/python3.6/dist-packages (from openpyxl==2.6.4) (1.0.1)\n",
            "Requirement already satisfied: jdcal in /usr/local/lib/python3.6/dist-packages (from openpyxl==2.6.4) (1.4.1)\n"
          ],
          "name": "stdout"
        }
      ]
    },
    {
      "cell_type": "code",
      "metadata": {
        "id": "N_thWSF0aSqd",
        "colab": {
          "base_uri": "https://localhost:8080/",
          "height": 126
        },
        "outputId": "58fe7c2a-3c3f-4627-8974-07c34aa13795"
      },
      "source": [
        "pip install pandas"
      ],
      "execution_count": null,
      "outputs": [
        {
          "output_type": "stream",
          "text": [
            "Requirement already satisfied: pandas in /usr/local/lib/python3.6/dist-packages (0.24.2)\n",
            "Requirement already satisfied: pytz>=2011k in /usr/local/lib/python3.6/dist-packages (from pandas) (2020.1)\n",
            "Requirement already satisfied: numpy>=1.12.0 in /usr/local/lib/python3.6/dist-packages (from pandas) (1.16.6)\n",
            "Requirement already satisfied: python-dateutil>=2.5.0 in /usr/local/lib/python3.6/dist-packages (from pandas) (2.8.1)\n",
            "Requirement already satisfied: six>=1.5 in /usr/local/lib/python3.6/dist-packages (from python-dateutil>=2.5.0->pandas) (1.15.0)\n"
          ],
          "name": "stdout"
        }
      ]
    },
    {
      "cell_type": "code",
      "metadata": {
        "id": "YM9ixSSVadkR",
        "colab": {
          "base_uri": "https://localhost:8080/",
          "height": 73
        },
        "outputId": "d9a254b5-0817-4f99-a1fa-6527b113c2c5"
      },
      "source": [
        "pip install python-dateutil==2.8.1"
      ],
      "execution_count": null,
      "outputs": [
        {
          "output_type": "stream",
          "text": [
            "Requirement already satisfied: python-dateutil==2.8.1 in /usr/local/lib/python3.6/dist-packages (2.8.1)\n",
            "Requirement already satisfied: six>=1.5 in /usr/local/lib/python3.6/dist-packages (from python-dateutil==2.8.1) (1.15.0)\n"
          ],
          "name": "stdout"
        }
      ]
    },
    {
      "cell_type": "code",
      "metadata": {
        "id": "ayu9fLuuaozW",
        "colab": {
          "base_uri": "https://localhost:8080/",
          "height": 35
        },
        "outputId": "83c9762c-6dab-491d-83d7-ec3190bee5fc"
      },
      "source": [
        "pip install pytz"
      ],
      "execution_count": null,
      "outputs": [
        {
          "output_type": "stream",
          "text": [
            "Requirement already satisfied: pytz in /usr/local/lib/python3.6/dist-packages (2020.1)\n"
          ],
          "name": "stdout"
        }
      ]
    },
    {
      "cell_type": "code",
      "metadata": {
        "id": "BLri3Q-Nar3U",
        "colab": {
          "base_uri": "https://localhost:8080/",
          "height": 73
        },
        "outputId": "b57e9669-87a1-499a-80d8-1b4e21457c36"
      },
      "source": [
        "pip install PyVirtualDisplay==0.2.5"
      ],
      "execution_count": null,
      "outputs": [
        {
          "output_type": "stream",
          "text": [
            "Requirement already satisfied: PyVirtualDisplay==0.2.5 in /usr/local/lib/python3.6/dist-packages (0.2.5)\n",
            "Requirement already satisfied: EasyProcess in /usr/local/lib/python3.6/dist-packages (from PyVirtualDisplay==0.2.5) (0.2.10)\n"
          ],
          "name": "stdout"
        }
      ]
    },
    {
      "cell_type": "code",
      "metadata": {
        "id": "aKdw4dkKavfK",
        "colab": {
          "base_uri": "https://localhost:8080/",
          "height": 126
        },
        "outputId": "2de2b93f-ed25-4451-e913-3c8f16f7453f"
      },
      "source": [
        "pip install requests"
      ],
      "execution_count": null,
      "outputs": [
        {
          "output_type": "stream",
          "text": [
            "Requirement already satisfied: requests in /usr/local/lib/python3.6/dist-packages (2.21.0)\n",
            "Requirement already satisfied: chardet<3.1.0,>=3.0.2 in /usr/local/lib/python3.6/dist-packages (from requests) (3.0.4)\n",
            "Requirement already satisfied: urllib3<1.25,>=1.21.1 in /usr/local/lib/python3.6/dist-packages (from requests) (1.24.3)\n",
            "Requirement already satisfied: certifi>=2017.4.17 in /usr/local/lib/python3.6/dist-packages (from requests) (2019.3.9)\n",
            "Requirement already satisfied: idna<2.9,>=2.5 in /usr/local/lib/python3.6/dist-packages (from requests) (2.8)\n"
          ],
          "name": "stdout"
        }
      ]
    },
    {
      "cell_type": "code",
      "metadata": {
        "id": "W2HgmBTQa261",
        "colab": {
          "base_uri": "https://localhost:8080/",
          "height": 53
        },
        "outputId": "0f82601f-d529-47fa-cb78-c0a4267cef92"
      },
      "source": [
        "pip install selenium==3.141.0"
      ],
      "execution_count": null,
      "outputs": [
        {
          "output_type": "stream",
          "text": [
            "Requirement already satisfied: selenium==3.141.0 in /usr/local/lib/python3.6/dist-packages (3.141.0)\n",
            "Requirement already satisfied: urllib3 in /usr/local/lib/python3.6/dist-packages (from selenium==3.141.0) (1.24.3)\n"
          ],
          "name": "stdout"
        }
      ]
    },
    {
      "cell_type": "code",
      "metadata": {
        "id": "I-rsOLvha6Zl",
        "colab": {
          "base_uri": "https://localhost:8080/",
          "height": 35
        },
        "outputId": "e7b14b88-ba66-401e-fd02-1dd80fd80bd2"
      },
      "source": [
        "pip install six==1.15.0"
      ],
      "execution_count": null,
      "outputs": [
        {
          "output_type": "stream",
          "text": [
            "Requirement already satisfied: six==1.15.0 in /usr/local/lib/python3.6/dist-packages (1.15.0)\n"
          ],
          "name": "stdout"
        }
      ]
    },
    {
      "cell_type": "code",
      "metadata": {
        "id": "BQyXM-elbBNr",
        "colab": {
          "base_uri": "https://localhost:8080/",
          "height": 35
        },
        "outputId": "d72f9728-82cb-48c5-e0bd-f370c32a44cf"
      },
      "source": [
        "pip install soupsieve==1.9.1"
      ],
      "execution_count": null,
      "outputs": [
        {
          "output_type": "stream",
          "text": [
            "Requirement already satisfied: soupsieve==1.9.1 in /usr/local/lib/python3.6/dist-packages (1.9.1)\n"
          ],
          "name": "stdout"
        }
      ]
    },
    {
      "cell_type": "code",
      "metadata": {
        "id": "SxCTYYSkbFli",
        "colab": {
          "base_uri": "https://localhost:8080/",
          "height": 35
        },
        "outputId": "1f3c4ab2-2f60-4687-e9f3-8662745ee8bd"
      },
      "source": [
        "pip install urllib3==1.24.3"
      ],
      "execution_count": null,
      "outputs": [
        {
          "output_type": "stream",
          "text": [
            "Requirement already satisfied: urllib3==1.24.3 in /usr/local/lib/python3.6/dist-packages (1.24.3)\n"
          ],
          "name": "stdout"
        }
      ]
    },
    {
      "cell_type": "code",
      "metadata": {
        "id": "lFmOsbQobLxR"
      },
      "source": [
        "from selenium import webdriver\n",
        "from selenium.common.exceptions import TimeoutException\n",
        "from selenium.webdriver.common.by import By\n",
        "from selenium.webdriver.support.ui import WebDriverWait # available since 2.4.0\n",
        "from selenium.webdriver.support import expected_conditions as EC \n",
        "from selenium.common.exceptions import NoSuchElementException\n",
        "from pyvirtualdisplay import Display# available since 2.26.0\n",
        "import json\n",
        "import time\n",
        "import concurrent.futures"
      ],
      "execution_count": null,
      "outputs": []
    },
    {
      "cell_type": "code",
      "metadata": {
        "id": "IrmKFLrebQl0",
        "colab": {
          "base_uri": "https://localhost:8080/",
          "height": 54
        },
        "outputId": "0d77d228-a101-4a7a-88cb-b8924cec5ff8"
      },
      "source": [
        "\n",
        "print(\"Enter product name\")\n",
        "st = input()\n",
        "print(st)\n",
        "\n",
        "start = time.perf_counter()\n",
        "\n",
        "def flipkart():\n",
        "    driver = webdriver.Firefox(executable_path = \"/sample_data/geckodriver.exe\")\n",
        "    driver.get(\"https://www.flipkart.com/\")\n",
        "    inputElement = driver.find_element_by_name(\"q\")\n",
        "    inputElement.send_keys(st)\n",
        "    inputElement.submit()\n",
        "    try:\n",
        "        WebDriverWait(driver, 20).until(EC.title_contains(\"Buy Products Online\"))\n",
        "        element_flip = driver.find_element_by_class_name(\"_3wU53n\")\n",
        "        p_element_flip = driver.find_element(By.CSS_SELECTOR,\"._1vC4OE._2rQ-NK\")\n",
        "        mrp_element_flip = driver.find_element(By.CSS_SELECTOR,\"._3auQ3N._2GcJzG\")\n",
        "        discount_element_flip = driver.find_element(By.CSS_SELECTOR,\".VGWI6T\")\n",
        "        print(\"---------FLIPKART---------\")\n",
        "        print (\"Product Name: \",element_flip.text)\n",
        "        print(\"price: \",p_element_flip.text)\n",
        "        print(\"mrp: \",mrp_element_flip.text)\n",
        "        print(\"discount: \",discount_element_flip.text)\n",
        "        print(\"\\n \\n\")\n",
        "\n",
        "        product={\n",
        "        \"name\": element_flip.text,\n",
        "        # \"feature\": feature_element.text,\n",
        "        \"price\": p_element_flip.text,\n",
        "        \"mrp\":mrp_element_flip.text,\n",
        "        \"discount\": discount_element_flip.text\n",
        "        }\n",
        "        with open('productData.json', 'w') as outfile:\n",
        "         json.dump(product, outfile)\n",
        "\n",
        "    except NoSuchElementException:\n",
        "        element = driver.find_element_by_class_name(\"_2cLu-l\")\n",
        "        p_element = driver.find_element_by_class_name(\"_1vC4OE\")\n",
        "        mrp_element = driver.find_element_by_class_name(\"_3auQ3N\")\n",
        "        discount_element = driver.find_element_by_class_name(\"VGWI6T\")\n",
        "\n",
        "         # create object and save the data to json file \n",
        "        # product={\n",
        "        # \"name\": element.text,\n",
        "        # \"price\": p_element.text,\n",
        "        # \"mrp\":mrp_element.text,\n",
        "        # \"discount\": discount_element.text\n",
        "        # }\n",
        "        # with open('productData.json', 'w') as outfile:\n",
        "        #  json.dump(product, outfile)\n",
        "\n",
        "        print (\"-->Product Name: \",element.text)\n",
        "        print(\"-->price: \",p_element.text)\n",
        "        print(\"-->mrp: \",mrp_element.text)\n",
        "        print(\"-->discount: \",discount_element.text)\n",
        "        print(\"\\n \\n\")\n",
        "\n",
        "        product={\n",
        "        \"name\": element_flip.text,\n",
        "        # \"feature\": feature_element.text,\n",
        "        \"price\": p_element_flip.text,\n",
        "        \"mrp\":mrp_element_flip.text,\n",
        "        \"discount\": discount_element_flip.text\n",
        "        }\n",
        "        with open('productData.json', 'w') as outfile:\n",
        "         json.dump(product, outfile)\n",
        "\n",
        "    finally:\n",
        "        driver.quit()\n",
        "\n",
        "\n",
        "\n",
        "def amazon():\n",
        "    driver = webdriver.Firefox(executable_path = \"/home/shadrul/Downloads/geckodriver\")\n",
        "    driver.maximize_window()\n",
        "    driver.get(\"https://www.amazon.in/\")\n",
        "    inputElement1 = driver.find_element_by_id(\"twotabsearchtextbox\")\n",
        "    inputElement1.send_keys(st)\n",
        "    inputElement1.submit()\n",
        "    WebDriverWait(driver, 20).until(EC.title_contains(st))\n",
        "    try:\n",
        "        element_ama = driver.find_element(By.CSS_SELECTOR,\".a-size-medium.a-color-base.a-text-normal\")\n",
        "        p_element_ama = driver.find_elements_by_class_name(\"a-price\")\n",
        "        rating_ama = driver.find_element(By.CSS_SELECTOR,\".a-size-base.a-color-secondary\")\n",
        "        print(\"--------amazon---------\")\n",
        "        print(\"-->Product Name:   \",element_ama.text)\n",
        "        print(\"-->price:          \",p_element_ama[0].text)\n",
        "        print(\"-->mrp:            \",p_element_ama[1].text)\n",
        "        print(\"-->Rating:   \",rating_ama.text)\n",
        "        product_ama={\n",
        "        \"name\": element_ama.text,\n",
        "        # \"feature\": feature_element.text,\n",
        "        \"price\": p_element_ama[0].text,\n",
        "        \"mrp\":p_element_ama[1].text,\n",
        "        \"rating\": rating_ama.text\n",
        "        }\n",
        "        with open('product_info.json', 'w') as outfile:\n",
        "         json.dump(product_ama, outfile)\n",
        "        print(\"\\n \\n\")\n",
        "\n",
        "\n",
        "    except NoSuchElementException:\n",
        "        # amazon\n",
        "        element = driver.find_element(By.CSS_SELECTOR,\".a-size-medium.a-color-base.a-text-normal\")\n",
        "        # acess space seprated class names  by removing space with css_selector\n",
        "        p_element = driver.find_elements_by_class_name(\"a-price\")\n",
        "        rating_ama = driver.find_element(By.CSS_SELECTOR,\".a-size-base.a-color-secondary\")\n",
        "        print(\"-->Product Name:   \",element.text)\n",
        "        print(\"-->price:          \",p_element[0].text)\n",
        "        print(\"-->mrp:            \",p_element[1].text)\n",
        "        print(\"-->Rating:   \",rating_ama.text)\n",
        "        print(\"\\n \\n\")\n",
        "\n",
        "        product_ama={\n",
        "        \"name\": element_ama.text,\n",
        "        # \"feature\": feature_element.text,\n",
        "        \"price\": p_element_ama[0].text,\n",
        "        \"mrp\":p_element_ama[1].text,\n",
        "        \"rating\": rating_ama.text\n",
        "        }\n",
        "        \n",
        "\n",
        "\n",
        "    finally:\n",
        "        driver.quit()\n",
        "\n",
        "\n",
        "\n",
        "\n",
        "with concurrent.futures.ThreadPoolExecutor() as executor:\n",
        "    executor.submit(amazon)\n",
        "    executor.submit(flipkart)\n",
        "\n",
        "finish = time.perf_counter()\n",
        "print(finish-start)    "
      ],
      "execution_count": null,
      "outputs": [
        {
          "output_type": "stream",
          "text": [
            "Enter product name\n"
          ],
          "name": "stdout"
        }
      ]
    },
    {
      "cell_type": "code",
      "metadata": {
        "id": "ZhaSnjB4bVgd"
      },
      "source": [
        ""
      ],
      "execution_count": null,
      "outputs": []
    }
  ]
}